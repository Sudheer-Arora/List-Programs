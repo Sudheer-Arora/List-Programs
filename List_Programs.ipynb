{
  "cells": [
    {
      "cell_type": "markdown",
      "metadata": {
        "id": "view-in-github",
        "colab_type": "text"
      },
      "source": [
        "<a href=\"https://colab.research.google.com/github/Sudheer-Arora/List-Programs/blob/main/List_Programs.ipynb\" target=\"_parent\"><img src=\"https://colab.research.google.com/assets/colab-badge.svg\" alt=\"Open In Colab\"/></a>"
      ]
    },
    {
      "cell_type": "code",
      "execution_count": null,
      "metadata": {
        "id": "qWlLzCVn1wmp"
      },
      "outputs": [],
      "source": [
        "l1=[1,2,3,4,-5,-8]\n",
        "print(l1[3])\n",
        "print(l1)\n",
        "l1.append('abc')\n",
        "print(l1)\n",
        "l1[1]=-123\n",
        "print(l1)\n",
        "print(l1[-1])"
      ]
    },
    {
      "cell_type": "code",
      "execution_count": null,
      "metadata": {
        "id": "1CzZT18z2DaR"
      },
      "outputs": [],
      "source": [
        "l1=[1,2,3,4,5,-1,-2,-3]\n",
        "print(l1[0])\n",
        "print(l1)\n",
        "print(len(l1))\n",
        "l1.append('dfs')\n",
        "print(l1)\n",
        "l1[1]=-123\n",
        "print(l1)\n",
        "print(l1[-1])"
      ]
    },
    {
      "cell_type": "code",
      "execution_count": null,
      "metadata": {
        "id": "v_Yzi_x32Jp9"
      },
      "outputs": [],
      "source": [
        "l1=[1,2,3,4,5,-1,-2,-3]\n",
        "print(l1[0])\n",
        "print(l1[5])\n",
        "print(len(l1))\n",
        "l1.append(1)\n",
        "print(l1)\n",
        "l1.append('abc')\n",
        "l1.append(45.5)\n",
        "print(l1)"
      ]
    },
    {
      "cell_type": "code",
      "execution_count": null,
      "metadata": {
        "id": "OXQNoLE92Ri6"
      },
      "outputs": [],
      "source": [
        "l1=[1,2,3,4,5,-1,-2,'abc',15.5]\n",
        "print(l1[7])\n",
        "print(l1[-1])\n",
        "print(l1[1:5])\n",
        "print(l1[2:])\n",
        "print(l1[:6])\n",
        "print(l1[:15])\n",
        "print(l1[2:6:2])\n",
        "print(l1[-1::-1])"
      ]
    },
    {
      "cell_type": "code",
      "execution_count": 10,
      "metadata": {
        "id": "y1uWYlmJ2Z7q",
        "colab": {
          "base_uri": "https://localhost:8080/"
        },
        "outputId": "c9f09a39-eb71-475c-a3f3-09e570eb1f47"
      },
      "outputs": [
        {
          "output_type": "stream",
          "name": "stdout",
          "text": [
            "162\n",
            "75\n",
            "-8\n",
            "5\n",
            "enter any number46\n",
            "no\n",
            "23\n",
            "56\n",
            "16\n",
            "75\n",
            "-8\n"
          ]
        }
      ],
      "source": [
        "l1=[23,56,16,75,-8]\n",
        "print(sum(l1))\n",
        "print(max(l1))\n",
        "print(min(l1))\n",
        "print(len(l1))\n",
        "x=int(input('enter any number'))\n",
        "if x in l1:\n",
        "    print('yes')\n",
        "else:\n",
        "    print('no')\n",
        "for i in l1:\n",
        "    print(i)"
      ]
    },
    {
      "cell_type": "code",
      "execution_count": null,
      "metadata": {
        "colab": {
          "background_save": true,
          "base_uri": "https://localhost:8080/"
        },
        "id": "s-kwiAOy2rEZ",
        "outputId": "60c3ca7e-3f32-4beb-b8ee-fc7f5ba2e5a2"
      },
      "outputs": [
        {
          "name": "stdout",
          "output_type": "stream",
          "text": [
            "Basic for loop programs\n",
            "1. Sum of list\n",
            "2. even numbers\n",
            "3. last digit is 5 or 6\n",
            "126\n",
            "22\n",
            "Basic for loop programs\n",
            "1. Sum of list\n",
            "2. even numbers\n",
            "3. last digit is 5 or 6\n",
            "126\n",
            "45\n",
            "25\n",
            "Basic for loop programs\n",
            "1. Sum of list\n",
            "2. even numbers\n",
            "3. last digit is 5 or 6\n",
            "261\n"
          ]
        }
      ],
      "source": [
        "l1=[126,3,45,17,25,22,23]\n",
        "x=0\n",
        "c='y'\n",
        "while c=='y':\n",
        "    print('Basic for loop programs')\n",
        "    print('1. Sum of list')\n",
        "    print('2. even numbers')\n",
        "    print('3. last digit is 5 or 6')\n",
        "    choice=int(input('enter your choice'))\n",
        "    if choice==1:\n",
        "        for n in l1:\n",
        "            x=x+n\n",
        "        print(x)\n",
        "    elif choice==2:\n",
        "        for n in l1:\n",
        "            if n%2==0:\n",
        "                print(n)\n",
        "    elif choice==3:\n",
        "        for n in l1:\n",
        "            if n%10==5 or n%10==6:\n",
        "                print(n)\n",
        "    else:\n",
        "        print('please enter correct choice')\n",
        "    c=input('press y to continue and any other key to exit')"
      ]
    },
    {
      "cell_type": "code",
      "execution_count": null,
      "metadata": {
        "colab": {
          "background_save": true
        },
        "id": "rqkgx8RN3Gy4",
        "outputId": "99022fc6-0395-4398-ebd4-e2b763e329ff"
      },
      "outputs": [
        {
          "name": "stdout",
          "output_type": "stream",
          "text": [
            "[12, 13, 3, 5]\n",
            "[12, 13, 3, 5, 33]\n",
            "[1, 2, 3, 'a', 'b', 'c']\n",
            "2\n",
            "[-12, 1, 2, 3, 4, 55, 5, 5, 5, 6, 7, 8, 1]\n",
            "7\n",
            "[2, 3, 4, 4, 3]\n",
            "4\n",
            "[2, 5, 9, 7, 6, 8, 1, 3]\n",
            "5\n",
            "[6, 1, 8, 3, 9]\n",
            "[3, 4, 4, 3, 2, 1]\n",
            "None\n",
            "[6, 1, 8, 9, 5]\n",
            "[9, 8, 7, 6, 5, 4, 3, 2, 1]\n",
            "['d', 'c', 'b', 'a']\n",
            "[1, 2, 3, 4, 5, 6, 7, 8, 9]\n",
            "['a', 'b', 'c', 'd']\n",
            "[9, 8, 7, 6, 5, 4, 3, 2, 1]\n",
            "['d', 'c', 'b', 'a']\n"
          ]
        }
      ],
      "source": [
        "#1.append(element)\n",
        "l=[12,13,3,5]\n",
        "print(l)\n",
        "l.append(33)\n",
        "print(l)\n",
        "#2.extend(list)\n",
        "l1=[1,2,3]\n",
        "l2=['a','b','c']\n",
        "l1.extend(l2)\n",
        "print(l1)\n",
        "#3.count()\n",
        "l=[1,2,3,4,5,5,5,6,7,8,1]\n",
        "print(l.count(1))\n",
        "#4.insert()\n",
        "l=[1,2,3,4,5,5,5,6,7,8,1]\n",
        "l.insert(0,-12)\n",
        "l.insert(5,55)\n",
        "print(l)\n",
        "#5.index()\n",
        "l=[1,2,3,4,5,5,5,6,7,8,1]\n",
        "print(l.index(6))\n",
        "#6.pop()\n",
        "l=[2,3,4,4,3,2]\n",
        "l.pop()\n",
        "print(l)\n",
        "l=[2,5,9,7,6,8,1,3,4]\n",
        "print(l.pop())\n",
        "print(l)\n",
        "l=[6,1,8,3,9,5]\n",
        "item=l.pop()\n",
        "print(item)\n",
        "print(l)\n",
        "#7.remove()\n",
        "l=[2,3,4,4,3,2,1]\n",
        "l.remove(2)\n",
        "print(l)\n",
        "l=[6,1,8,3,9,5]\n",
        "item=l.remove(3)\n",
        "print(item)\n",
        "print(l)\n",
        "#8.reverse()\n",
        "l1=[1,2,3,4,5,6,7,8,9]\n",
        "l1.reverse()\n",
        "print(l1)\n",
        "l2=['a','b','c','d']\n",
        "l2.reverse()\n",
        "print(l2)\n",
        "#9.sort()\n",
        "l1=[1,5,9,6,3,2,4,7,8]\n",
        "l1.sort()\n",
        "print(l1)\n",
        "l2=['c','d','b','a']\n",
        "l2.sort()\n",
        "print(l2)\n",
        "l1=[1,5,9,6,3,2,4,7,8]\n",
        "l1.sort(reverse=True)\n",
        "print(l1)\n",
        "l2=['c','d','b','a']\n",
        "l2.sort(reverse=True)\n",
        "print(l2)"
      ]
    }
  ],
  "metadata": {
    "colab": {
      "provenance": [],
      "authorship_tag": "ABX9TyObXxBiF3Wv3Y8Dmu13TlKD",
      "include_colab_link": true
    },
    "kernelspec": {
      "display_name": "Python 3",
      "name": "python3"
    },
    "language_info": {
      "name": "python"
    }
  },
  "nbformat": 4,
  "nbformat_minor": 0
}