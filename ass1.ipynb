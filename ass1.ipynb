{
  "nbformat": 4,
  "nbformat_minor": 0,
  "metadata": {
    "colab": {
      "provenance": [],
      "authorship_tag": "ABX9TyNjqKjIucyDOtN0gQxL3FGA",
      "include_colab_link": true
    },
    "kernelspec": {
      "name": "python3",
      "display_name": "Python 3"
    },
    "language_info": {
      "name": "python"
    }
  },
  "cells": [
    {
      "cell_type": "markdown",
      "metadata": {
        "id": "view-in-github",
        "colab_type": "text"
      },
      "source": [
        "<a href=\"https://colab.research.google.com/github/Sudheer-Arora/List-Programs/blob/main/ass1.ipynb\" target=\"_parent\"><img src=\"https://colab.research.google.com/assets/colab-badge.svg\" alt=\"Open In Colab\"/></a>"
      ]
    },
    {
      "cell_type": "code",
      "execution_count": null,
      "metadata": {
        "colab": {
          "base_uri": "https://localhost:8080/"
        },
        "id": "M2_Po3A3dBTy",
        "outputId": "0bb491e4-1721-4efb-acf4-b47845c60889"
      },
      "outputs": [
        {
          "output_type": "stream",
          "name": "stdout",
          "text": [
            "[11, 12, 13, 14, 50, 60]\n"
          ]
        }
      ],
      "source": [
        "L=[11,12,13,14]\n",
        "L.append(50)\n",
        "L.append(60)\n",
        "print(L)"
      ]
    },
    {
      "cell_type": "code",
      "source": [
        "L.remove(11)\n",
        "L.remove(13)\n",
        "print(L)"
      ],
      "metadata": {
        "colab": {
          "base_uri": "https://localhost:8080/"
        },
        "id": "hB0BGVVjjCgk",
        "outputId": "7c4d5ded-90c0-4ddf-de58-5c4835391d48"
      },
      "execution_count": null,
      "outputs": [
        {
          "output_type": "stream",
          "name": "stdout",
          "text": [
            "[12, 14, 50, 60]\n"
          ]
        }
      ]
    },
    {
      "cell_type": "code",
      "source": [
        "A=[1,12,5,14]"
      ],
      "metadata": {
        "id": "ub9KGc-Rnsd8"
      },
      "execution_count": null,
      "outputs": []
    },
    {
      "cell_type": "code",
      "source": [
        "A.sort()\n",
        "print(A)"
      ],
      "metadata": {
        "colab": {
          "base_uri": "https://localhost:8080/"
        },
        "id": "1CX-10B3k69v",
        "outputId": "2c088d6e-6ed2-474b-f1cf-2a4afaf8fe14"
      },
      "execution_count": null,
      "outputs": [
        {
          "output_type": "stream",
          "name": "stdout",
          "text": [
            "[1, 5, 12, 14]\n"
          ]
        }
      ]
    },
    {
      "cell_type": "code",
      "source": [
        "A.sort(reverse=True)\n",
        "print(A)"
      ],
      "metadata": {
        "colab": {
          "base_uri": "https://localhost:8080/"
        },
        "id": "MlX7KnMPnVMK",
        "outputId": "61da247d-97a3-48ac-f2f0-11575df6852d"
      },
      "execution_count": null,
      "outputs": [
        {
          "output_type": "stream",
          "name": "stdout",
          "text": [
            "[14, 12, 5, 1]\n"
          ]
        }
      ]
    },
    {
      "cell_type": "code",
      "source": [
        "if 13 in A:\n",
        "  print(\"13 is present in the list\")\n",
        "else:\n",
        "  print(\"13 is not there\")"
      ],
      "metadata": {
        "colab": {
          "base_uri": "https://localhost:8080/"
        },
        "id": "6Rjbb7nEow6Q",
        "outputId": "344a2fc8-3662-4b76-cd67-c8fe47b30610"
      },
      "execution_count": null,
      "outputs": [
        {
          "output_type": "stream",
          "name": "stdout",
          "text": [
            "13 is not there\n"
          ]
        }
      ]
    },
    {
      "cell_type": "code",
      "source": [
        "print(len(L))\n"
      ],
      "metadata": {
        "colab": {
          "base_uri": "https://localhost:8080/"
        },
        "id": "lh28xNBXq0O4",
        "outputId": "72260209-8c0f-4b04-d82b-a73637068cb7"
      },
      "execution_count": null,
      "outputs": [
        {
          "output_type": "stream",
          "name": "stdout",
          "text": [
            "4\n"
          ]
        }
      ]
    },
    {
      "cell_type": "code",
      "source": [
        "print(sum(L))"
      ],
      "metadata": {
        "colab": {
          "base_uri": "https://localhost:8080/"
        },
        "id": "xusT9uvGrZx5",
        "outputId": "109fe390-e433-4974-a067-2b7cc8e5ee23"
      },
      "execution_count": null,
      "outputs": [
        {
          "output_type": "stream",
          "name": "stdout",
          "text": [
            "136\n"
          ]
        }
      ]
    },
    {
      "cell_type": "code",
      "source": [
        "odd_sum=sum(n for n in L if n%2!=0)\n",
        "print(odd_sum)"
      ],
      "metadata": {
        "colab": {
          "base_uri": "https://localhost:8080/"
        },
        "id": "DBIwE-fsr1rm",
        "outputId": "193fa6cf-33eb-484f-8db7-a00fffc1676b"
      },
      "execution_count": null,
      "outputs": [
        {
          "output_type": "stream",
          "name": "stdout",
          "text": [
            "0\n"
          ]
        }
      ]
    },
    {
      "cell_type": "code",
      "source": [
        "even_sum=sum(n for n in L if n%2==0)\n",
        "print(even_sum)"
      ],
      "metadata": {
        "colab": {
          "base_uri": "https://localhost:8080/"
        },
        "id": "jYUtcT-LsgY8",
        "outputId": "fa8e2b21-2c9b-4d98-c105-fb1c02eeb903"
      },
      "execution_count": null,
      "outputs": [
        {
          "output_type": "stream",
          "name": "stdout",
          "text": [
            "136\n"
          ]
        }
      ]
    },
    {
      "cell_type": "code",
      "source": [
        "s=0\n",
        "for i in L:\n",
        "  c=0\n",
        "  for j in range(2,i+1):\n",
        "    if i%j==0:\n",
        "      c=c+1\n",
        "  if c==2:\n",
        "    s=s+1\n",
        "print(s)"
      ],
      "metadata": {
        "colab": {
          "base_uri": "https://localhost:8080/"
        },
        "id": "OsBN-ltys7lB",
        "outputId": "1b20462c-8193-441a-f562-c62667bed65a"
      },
      "execution_count": null,
      "outputs": [
        {
          "output_type": "stream",
          "name": "stdout",
          "text": [
            "0\n"
          ]
        }
      ]
    },
    {
      "cell_type": "code",
      "source": [
        "print(L.clear())"
      ],
      "metadata": {
        "colab": {
          "base_uri": "https://localhost:8080/"
        },
        "id": "NTOwsMsSug9a",
        "outputId": "3f716881-495d-4b48-a0d0-24bbfb9d453b"
      },
      "execution_count": null,
      "outputs": [
        {
          "output_type": "stream",
          "name": "stdout",
          "text": [
            "None\n"
          ]
        }
      ]
    },
    {
      "cell_type": "code",
      "source": [
        "print(L)"
      ],
      "metadata": {
        "colab": {
          "base_uri": "https://localhost:8080/"
        },
        "id": "FnRnpygevpxE",
        "outputId": "1fba504d-d503-45d9-a3a1-1407cf8575a3"
      },
      "execution_count": null,
      "outputs": [
        {
          "output_type": "stream",
          "name": "stdout",
          "text": [
            "[]\n"
          ]
        }
      ]
    },
    {
      "cell_type": "code",
      "source": [
        "del(L)"
      ],
      "metadata": {
        "id": "pbRvTpKxvs8d"
      },
      "execution_count": null,
      "outputs": []
    },
    {
      "cell_type": "code",
      "source": [
        "D={1:5.6,2:7.8,3:6.6,4:8.7,5:7.7}\n",
        "print(D)"
      ],
      "metadata": {
        "colab": {
          "base_uri": "https://localhost:8080/"
        },
        "id": "w3GKX0s4veXt",
        "outputId": "32c2676b-4b02-446d-fe6d-bd80c07f42af"
      },
      "execution_count": null,
      "outputs": [
        {
          "output_type": "stream",
          "name": "stdout",
          "text": [
            "{1: 5.6, 2: 7.8, 3: 6.6, 4: 8.7, 5: 7.7}\n"
          ]
        }
      ]
    },
    {
      "cell_type": "code",
      "source": [
        "D[8]=8.8\n",
        "print(D)"
      ],
      "metadata": {
        "colab": {
          "base_uri": "https://localhost:8080/"
        },
        "id": "bMPA8MCzvrOt",
        "outputId": "edad0349-a68d-41a4-8fd1-feec1605537c"
      },
      "execution_count": null,
      "outputs": [
        {
          "output_type": "stream",
          "name": "stdout",
          "text": [
            "{1: 5.6, 2: 7.8, 3: 6.6, 4: 8.7, 5: 7.7, 8: 8.8}\n"
          ]
        }
      ]
    },
    {
      "cell_type": "code",
      "source": [
        "if 2 in D:\n",
        "    del D[2]\n",
        "print(D)"
      ],
      "metadata": {
        "colab": {
          "base_uri": "https://localhost:8080/"
        },
        "id": "g67AzD0-wGIb",
        "outputId": "27cec535-a914-4ffe-ac49-709c5d6fab22"
      },
      "execution_count": null,
      "outputs": [
        {
          "output_type": "stream",
          "name": "stdout",
          "text": [
            "{1: 5.6, 3: 6.6, 4: 8.7, 5: 7.7, 8: 8.8}\n"
          ]
        }
      ]
    },
    {
      "cell_type": "code",
      "source": [
        "if 6 in D:\n",
        "    print(\"present\")\n",
        "else:\n",
        "    print(\"not present\")"
      ],
      "metadata": {
        "colab": {
          "base_uri": "https://localhost:8080/"
        },
        "id": "22kPAFumwNK4",
        "outputId": "1328a8f4-e0a9-4795-a013-b3c928a0c575"
      },
      "execution_count": null,
      "outputs": [
        {
          "output_type": "stream",
          "name": "stdout",
          "text": [
            "not present\n"
          ]
        }
      ]
    },
    {
      "cell_type": "code",
      "source": [
        "n=len(D)\n",
        "print(n)\n",
        "if n in D:\n",
        "    print(\"present\")\n",
        "else:\n",
        "    print(\"not present\")"
      ],
      "metadata": {
        "colab": {
          "base_uri": "https://localhost:8080/"
        },
        "id": "l-hs0KxXwu85",
        "outputId": "f4ac7dcd-51b2-4584-a6e9-8c214afe004d"
      },
      "execution_count": null,
      "outputs": [
        {
          "output_type": "stream",
          "name": "stdout",
          "text": [
            "5\n",
            "present\n"
          ]
        }
      ]
    },
    {
      "cell_type": "code",
      "source": [
        "s=sum(D.values())\n",
        "print(s)"
      ],
      "metadata": {
        "colab": {
          "base_uri": "https://localhost:8080/"
        },
        "id": "JMUqSBqkxR53",
        "outputId": "83c0a39b-c369-4c7c-8ec5-d53e7f5b120a"
      },
      "execution_count": null,
      "outputs": [
        {
          "output_type": "stream",
          "name": "stdout",
          "text": [
            "37.4\n"
          ]
        }
      ]
    },
    {
      "cell_type": "code",
      "source": [
        "print(D)\n",
        "D[3]=7.1\n",
        "print(D)"
      ],
      "metadata": {
        "colab": {
          "base_uri": "https://localhost:8080/"
        },
        "id": "OkZQJ4Glxdil",
        "outputId": "7cfe098f-7525-45ce-a4a3-feea23d2239b"
      },
      "execution_count": null,
      "outputs": [
        {
          "output_type": "stream",
          "name": "stdout",
          "text": [
            "{1: 5.6, 3: 6.6, 4: 8.7, 5: 7.7, 8: 8.8}\n",
            "{1: 5.6, 3: 7.1, 4: 8.7, 5: 7.7, 8: 8.8}\n"
          ]
        }
      ]
    },
    {
      "cell_type": "code",
      "source": [
        "D.clear()\n",
        "print(D)"
      ],
      "metadata": {
        "colab": {
          "base_uri": "https://localhost:8080/"
        },
        "id": "7EN25gI1xsQj",
        "outputId": "15fb4309-553a-4a35-e973-1abd67cfe6c3"
      },
      "execution_count": null,
      "outputs": [
        {
          "output_type": "stream",
          "name": "stdout",
          "text": [
            "{}\n"
          ]
        }
      ]
    },
    {
      "cell_type": "code",
      "source": [
        "S1={10,20,30,40,50,60}\n",
        "S2={40,50,60,70,80,90}"
      ],
      "metadata": {
        "id": "jGXGtksmyAk0"
      },
      "execution_count": null,
      "outputs": []
    },
    {
      "cell_type": "code",
      "source": [
        "S1.add(55)\n",
        "S1.add(66)\n",
        "print(S1)"
      ],
      "metadata": {
        "colab": {
          "base_uri": "https://localhost:8080/"
        },
        "id": "ir35dU67yHV_",
        "outputId": "8bc2777e-ad7c-4fd6-8859-e7fa00da831b"
      },
      "execution_count": null,
      "outputs": [
        {
          "output_type": "stream",
          "name": "stdout",
          "text": [
            "{50, 66, 20, 55, 40, 10, 60, 30}\n"
          ]
        }
      ]
    },
    {
      "cell_type": "code",
      "source": [
        "S1.discard(10)\n",
        "S1.discard(30)\n",
        "print(S1)"
      ],
      "metadata": {
        "colab": {
          "base_uri": "https://localhost:8080/"
        },
        "id": "qXDth5QnyQsM",
        "outputId": "e454f958-aefc-4128-a675-bbdb03dc55ff"
      },
      "execution_count": null,
      "outputs": [
        {
          "output_type": "stream",
          "name": "stdout",
          "text": [
            "{50, 66, 20, 55, 40, 60}\n"
          ]
        }
      ]
    },
    {
      "cell_type": "code",
      "source": [
        "if 40 in S1:\n",
        "    print(\"present\")\n",
        "else:\n",
        "    print(\"not present\")"
      ],
      "metadata": {
        "colab": {
          "base_uri": "https://localhost:8080/"
        },
        "id": "GbzDAQviyfin",
        "outputId": "e69d7f23-a112-460c-eeca-bcb6c59e081c"
      },
      "execution_count": null,
      "outputs": [
        {
          "output_type": "stream",
          "name": "stdout",
          "text": [
            "present\n"
          ]
        }
      ]
    },
    {
      "cell_type": "code",
      "source": [
        "Union_Set=S1.union(S2)\n",
        "print(Uni_Set)"
      ],
      "metadata": {
        "colab": {
          "base_uri": "https://localhost:8080/"
        },
        "id": "Qckezn28ytUR",
        "outputId": "b31d89c9-44c3-4d86-b4e8-54fa09efe288"
      },
      "execution_count": null,
      "outputs": [
        {
          "output_type": "stream",
          "name": "stdout",
          "text": [
            "{66, 70, 40, 80, 50, 20, 55, 90, 60}\n"
          ]
        }
      ]
    },
    {
      "cell_type": "code",
      "source": [
        "Intersection_Set=S1.intersection(S2)\n",
        "print(Intersection_Set)"
      ],
      "metadata": {
        "colab": {
          "base_uri": "https://localhost:8080/"
        },
        "id": "5UrqEjxby9o9",
        "outputId": "b5fd4c37-512c-44d9-cdf1-cc10faf41a86"
      },
      "execution_count": null,
      "outputs": [
        {
          "output_type": "stream",
          "name": "stdout",
          "text": [
            "{40, 50, 60}\n"
          ]
        }
      ]
    },
    {
      "cell_type": "code",
      "source": [
        "Difference_Set=S1.difference(S2)\n",
        "print(Difference_Set)"
      ],
      "metadata": {
        "colab": {
          "base_uri": "https://localhost:8080/"
        },
        "id": "6TLNLPrszZQA",
        "outputId": "11bc0e3b-1304-41c3-e3dd-d1b7d1803cc3"
      },
      "execution_count": null,
      "outputs": [
        {
          "output_type": "stream",
          "name": "stdout",
          "text": [
            "{66, 20, 55}\n"
          ]
        }
      ]
    },
    {
      "cell_type": "code",
      "source": [],
      "metadata": {
        "id": "gzBcqhE-0Lft"
      },
      "execution_count": null,
      "outputs": []
    },
    {
      "cell_type": "code",
      "source": [
        "import random"
      ],
      "metadata": {
        "id": "jNMyIYax0Mz5"
      },
      "execution_count": null,
      "outputs": []
    },
    {
      "cell_type": "code",
      "source": [
        "def generate_random_list():\n",
        "    return [random.randint(10, 30) for i in range(10)]"
      ],
      "metadata": {
        "id": "Qknn4Ceg0VOi"
      },
      "execution_count": null,
      "outputs": []
    },
    {
      "cell_type": "code",
      "source": [
        "L1=generate_random_list()\n",
        "L2=generate_random_list()"
      ],
      "metadata": {
        "id": "8w9QIZVk0e1p"
      },
      "execution_count": null,
      "outputs": []
    },
    {
      "cell_type": "code",
      "source": [
        "print(L1)\n",
        "print(L2)"
      ],
      "metadata": {
        "colab": {
          "base_uri": "https://localhost:8080/"
        },
        "id": "Itbt3mIY0mHa",
        "outputId": "21277176-1fa8-4e35-9633-6af5130d6348"
      },
      "execution_count": null,
      "outputs": [
        {
          "output_type": "stream",
          "name": "stdout",
          "text": [
            "[13, 28, 24, 21, 25, 19, 18, 20, 30, 18]\n",
            "[12, 22, 10, 24, 24, 21, 16, 19, 19, 30]\n"
          ]
        }
      ]
    },
    {
      "cell_type": "code",
      "source": [
        "common_numbers=list(set(L1).intersection(set(L2)))\n",
        "print(common_numbers)"
      ],
      "metadata": {
        "colab": {
          "base_uri": "https://localhost:8080/"
        },
        "id": "Jqdl-abe1AtW",
        "outputId": "255243bf-c469-4805-f84e-590d05306db7"
      },
      "execution_count": null,
      "outputs": [
        {
          "output_type": "stream",
          "name": "stdout",
          "text": [
            "[24, 19, 21, 30]\n"
          ]
        }
      ]
    },
    {
      "cell_type": "code",
      "source": [
        "unique_L1=[x for x in L1 if x not in L2]\n",
        "unique_L2=[x for x in L2 if x not in L1]\n",
        "unique_numbers=unique_L1+unique_L2\n",
        "print(unique_numbers)"
      ],
      "metadata": {
        "colab": {
          "base_uri": "https://localhost:8080/"
        },
        "id": "gQblU6H718Ry",
        "outputId": "f7b77f97-7168-4c87-ec7d-b036fa719213"
      },
      "execution_count": null,
      "outputs": [
        {
          "output_type": "stream",
          "name": "stdout",
          "text": [
            "[13, 28, 25, 18, 20, 18, 12, 22, 10, 16]\n"
          ]
        }
      ]
    },
    {
      "cell_type": "code",
      "source": [
        "min_L1=min(L1)\n",
        "min_L2=min(L2)\n",
        "print(min_L1)\n",
        "print(min_L2)"
      ],
      "metadata": {
        "colab": {
          "base_uri": "https://localhost:8080/"
        },
        "id": "BfaF9Cp22asA",
        "outputId": "e1379b6f-c053-4945-e17f-02f8b53b280e"
      },
      "execution_count": null,
      "outputs": [
        {
          "output_type": "stream",
          "name": "stdout",
          "text": [
            "13\n",
            "10\n"
          ]
        }
      ]
    },
    {
      "cell_type": "code",
      "source": [
        "max_L1=max(L1)\n",
        "max_L2=max(L2)\n",
        "print(max_L1)\n",
        "print(max_L2)"
      ],
      "metadata": {
        "colab": {
          "base_uri": "https://localhost:8080/"
        },
        "id": "OSFASO9B2w3-",
        "outputId": "a4fb6ae8-0767-42b3-a0b1-8e8497e7b0f3"
      },
      "execution_count": null,
      "outputs": [
        {
          "output_type": "stream",
          "name": "stdout",
          "text": [
            "30\n",
            "30\n"
          ]
        }
      ]
    },
    {
      "cell_type": "code",
      "source": [
        "sum_L1=sum(L1)\n",
        "sum_L2=sum(L2)\n",
        "print(sum_L1)\n",
        "print(sum_L2)"
      ],
      "metadata": {
        "colab": {
          "base_uri": "https://localhost:8080/"
        },
        "id": "kOtPow9G290w",
        "outputId": "e94e3d82-cd9b-41ae-92fd-a961c71acc15"
      },
      "execution_count": null,
      "outputs": [
        {
          "output_type": "stream",
          "name": "stdout",
          "text": [
            "216\n",
            "197\n"
          ]
        }
      ]
    },
    {
      "cell_type": "code",
      "source": [
        "import random"
      ],
      "metadata": {
        "id": "PwX0Ktc03dDE"
      },
      "execution_count": null,
      "outputs": []
    },
    {
      "cell_type": "code",
      "source": [
        "random_numbers=[random.randint(100,900) for i in range(100)]"
      ],
      "metadata": {
        "id": "w-ng0ifr3nQ4"
      },
      "execution_count": null,
      "outputs": []
    },
    {
      "cell_type": "code",
      "source": [
        "def prime(num):\n",
        "    if num<=1:\n",
        "        return False\n",
        "    if num==2:\n",
        "        return True\n",
        "    if num%2==0:\n",
        "        return False\n",
        "    i=3\n",
        "    while i*i<=num:\n",
        "        if num%i==0:\n",
        "            return False\n",
        "        i+=2\n",
        "    return True"
      ],
      "metadata": {
        "id": "8xakvgZc5E-q"
      },
      "execution_count": null,
      "outputs": []
    },
    {
      "cell_type": "code",
      "source": [
        "odd_count=0\n",
        "even_count=0\n",
        "prime_numbers=[]\n",
        "for num in random_numbers:\n",
        "    if num%2==0:\n",
        "        even_count+=1\n",
        "    else:\n",
        "        odd_count+=1\n",
        "\n",
        "    if prime(num):\n",
        "        prime_numbers.append(num)"
      ],
      "metadata": {
        "id": "Vbfj8NID4OGj"
      },
      "execution_count": null,
      "outputs": []
    },
    {
      "cell_type": "code",
      "source": [
        "print(random_numbers)\n",
        "print(odd_count)\n",
        "print(even_count)\n",
        "print(prime_numbers)"
      ],
      "metadata": {
        "colab": {
          "base_uri": "https://localhost:8080/"
        },
        "id": "TCO50cA46N_c",
        "outputId": "170eff25-9459-4b14-df49-847efb30f6ec"
      },
      "execution_count": null,
      "outputs": [
        {
          "output_type": "stream",
          "name": "stdout",
          "text": [
            "[124, 523, 750, 342, 601, 101, 734, 575, 661, 801, 258, 208, 128, 259, 133, 325, 861, 860, 453, 739, 356, 212, 334, 869, 643, 655, 545, 119, 363, 294, 120, 664, 382, 414, 628, 889, 240, 717, 556, 891, 230, 860, 416, 770, 592, 416, 487, 773, 237, 461, 147, 609, 200, 232, 700, 177, 842, 353, 762, 702, 676, 248, 841, 637, 515, 202, 450, 289, 713, 595, 684, 721, 839, 344, 781, 179, 218, 460, 797, 393, 108, 190, 205, 886, 541, 393, 255, 519, 230, 260, 605, 857, 230, 221, 468, 374, 727, 664, 545, 478]\n",
            "51\n",
            "49\n",
            "[523, 601, 101, 661, 739, 643, 487, 773, 461, 353, 839, 179, 797, 541, 857, 727]\n"
          ]
        }
      ]
    },
    {
      "cell_type": "code",
      "source": [
        "D={1:\"One\",2:\"Two\",3:\"Three\",4:\"Four\",5:\"Five\"}"
      ],
      "metadata": {
        "id": "VJTYdBDd77N0"
      },
      "execution_count": null,
      "outputs": []
    },
    {
      "cell_type": "code",
      "source": [
        "file_name=\"demo.txt\""
      ],
      "metadata": {
        "id": "K9eXaQBt8UQk"
      },
      "execution_count": null,
      "outputs": []
    },
    {
      "cell_type": "code",
      "source": [
        "with open(file_name,'w') as f:\n",
        "    for key,value in D.items():\n",
        "        f.write(f\"{key},{value}\\n\")\n",
        "print(f\"Data has been written to {file_name}\")"
      ],
      "metadata": {
        "colab": {
          "base_uri": "https://localhost:8080/"
        },
        "id": "Z0l7Yiyj8fiA",
        "outputId": "975fcea0-3c9f-4398-bff4-fe65b62dba83"
      },
      "execution_count": null,
      "outputs": [
        {
          "output_type": "stream",
          "name": "stdout",
          "text": [
            "Data has been written to demo.txt\n"
          ]
        }
      ]
    },
    {
      "cell_type": "code",
      "source": [
        "L=[\"One\",\"Two\",\"Three\",\"Four\",\"Five\"]"
      ],
      "metadata": {
        "id": "jyiHezDE9X3w"
      },
      "execution_count": null,
      "outputs": []
    },
    {
      "cell_type": "code",
      "source": [
        "def write_lengths_to_file(lst,filename):\n",
        "    with open(filename,'w') as f:\n",
        "        for item in lst:\n",
        "            length=len(item)\n",
        "            f.write(f\"{item},{length}\\n\")"
      ],
      "metadata": {
        "id": "YpSx4NZm9-we"
      },
      "execution_count": null,
      "outputs": []
    },
    {
      "cell_type": "code",
      "source": [
        "filename=\"element_lengths.txt\""
      ],
      "metadata": {
        "id": "41hiVGBo-Ki6"
      },
      "execution_count": null,
      "outputs": []
    },
    {
      "cell_type": "code",
      "source": [
        "write_lengths_to_file(L,filename)"
      ],
      "metadata": {
        "id": "BMigfF6H-XSh"
      },
      "execution_count": null,
      "outputs": []
    },
    {
      "cell_type": "code",
      "source": [
        "print(f\"Element lengths written t{filename}\")"
      ],
      "metadata": {
        "colab": {
          "base_uri": "https://localhost:8080/"
        },
        "id": "7vzyOAgS-kOG",
        "outputId": "c1503022-e6c1-4251-98ae-5c00bfebf676"
      },
      "execution_count": null,
      "outputs": [
        {
          "output_type": "stream",
          "name": "stdout",
          "text": [
            "Element lengths written telement_lengths.txt\n"
          ]
        }
      ]
    }
  ]
}